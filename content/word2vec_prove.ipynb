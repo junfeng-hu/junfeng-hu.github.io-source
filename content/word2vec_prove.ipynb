{
 "cells": [
  {
   "cell_type": "markdown",
   "metadata": {},
   "source": []
  },
  {
   "cell_type": "markdown",
   "metadata": {},
   "source": [
    "## word2vec formula prove"
   ]
  },
  {
   "cell_type": "markdown",
   "metadata": {},
   "source": [
    "(0)\n",
    "\n",
    "$$\n",
    "\\sigma' (y) = \\sigma (y) \\cdot [ 1 - \\sigma (y) ] \\cdot y'\n",
    "$$"
   ]
  },
  {
   "cell_type": "markdown",
   "metadata": {},
   "source": [
    "### hierarchical softmax"
   ]
  },
  {
   "cell_type": "markdown",
   "metadata": {},
   "source": [
    "(1)\n",
    "$$ p(w | w_I) = \\prod_{j=1}^{L(w)-1} \\sigma \\left( [\\![ n(w, j+1) = ch(n(w, j)) ]\\!] \\cdot {v'_{n(w, j)}}^T v_{w_I} \n",
    "\\right) $$"
   ]
  },
  {
   "cell_type": "markdown",
   "metadata": {},
   "source": [
    "#### the hierarchical softmax gradient"
   ]
  },
  {
   "cell_type": "markdown",
   "metadata": {},
   "source": [
    "First let\n",
    "\n",
    "$$\n",
    "hs_j = [\\![ n(w, j+1) = ch(n(w, j)) ]\\!] \\cdot {v'_{n(w, j)}}^T v_{w_I}\n",
    "$$"
   ]
  },
  {
   "cell_type": "markdown",
   "metadata": {},
   "source": [
    "And\n",
    "\n",
    "$$\n",
    "\\frac {d hs_j} {v'_{n(w, j)}} = [\\![ n(w, j+1) = ch(n(w, j)) ]\\!] \\cdot v_{w_I}\n",
    "$$\n",
    "\n",
    "$$\n",
    "\\frac {d hs_j} {v_{w_I}} = [\\![ n(w, j+1) = ch(n(w, j)) ]\\!] \\cdot v'_{n(w, j)}\n",
    "$$"
   ]
  },
  {
   "cell_type": "markdown",
   "metadata": {},
   "source": [
    "Then\n",
    "$$\n",
    "\\nabla \\log p(w | w_I) = \\sum_{j=1}^{L(w)-1} \\frac{1} {\\sigma (hs_j)} \\cdot \\sigma' (hs_j) \\cdot hs'_j\n",
    "$$\n",
    "\n",
    "According to equation (0)\n",
    "$$\n",
    "\\nabla \\log p(w | w_I) = \\sum_{j=1}^{L(w)-1}\n",
    "\\frac{1} {\\sigma (hs_j)}\n",
    "\\cdot\n",
    "\\sigma (hs_j) \\cdot [ 1 - \\sigma (hs_j) ]\n",
    "\\cdot\n",
    "hs'_j\n",
    "$$"
   ]
  },
  {
   "cell_type": "markdown",
   "metadata": {},
   "source": [
    "When update $ v_{w_I} $, we got gradient is:\n",
    "\n",
    "$$\n",
    "\\nabla \\log p(w | w_I) = \\sum_{j=1}^{L(w)-1}\n",
    "\\frac{1} {\\sigma (hs_j)}\n",
    "\\cdot\n",
    "\\sigma (hs_j) \\cdot [ 1 - \\sigma (hs_j) ]\n",
    "\\cdot\n",
    "[\\![ n(w, j+1) = ch(n(w, j)) ]\\!]\n",
    "\\cdot\n",
    "v'_{n(w, j)}\n",
    "$$"
   ]
  },
  {
   "cell_type": "markdown",
   "metadata": {},
   "source": [
    "When update $ v'_{n(w, j)} $, we got gradient is:\n",
    "\n",
    "$$\n",
    "\\nabla \\log p(w | w_I) = \\sum_{j=1}^{L(w)-1}\n",
    "\\frac{1} {\\sigma (hs_j)}\n",
    "\\cdot\n",
    "\\sigma (hs_j) \\cdot [ 1 - \\sigma (hs_j) ]\n",
    "\\cdot\n",
    "[\\![ n(w, j+1) = ch(n(w, j)) ]\\!]\n",
    "\\cdot\n",
    "v_{w_I}\n",
    "$$"
   ]
  },
  {
   "cell_type": "markdown",
   "metadata": {},
   "source": [
    "### negative sampling"
   ]
  },
  {
   "cell_type": "markdown",
   "metadata": {},
   "source": [
    "(2)\n",
    "$$ \\log \\sigma( {v'_{w_O}}^T v_{w_I} ) + \\sum_{i}^{k} E_{w_i \\sim P_n(w)}  \\left[ \\log \\sigma( {-v'_{w_i}}^T v_{w_I}\n",
    ") \\right] $$"
   ]
  },
  {
   "cell_type": "markdown",
   "metadata": {},
   "source": [
    "First let\n",
    "\n",
    "$$\n",
    "\n",
    "$$"
   ]
  },
  {
   "cell_type": "markdown",
   "metadata": {},
   "source": [
    "### continuous bag of words"
   ]
  },
  {
   "cell_type": "markdown",
   "metadata": {},
   "source": [
    "#### maximize the following average log probability:"
   ]
  },
  {
   "cell_type": "markdown",
   "metadata": {},
   "source": [
    "(3)\n",
    "$$ \\frac{1}{T} \\sum_{t=1}^{T} \\sum_{-c \\leq{j} \\leq{c},j\\neq{0}} \\log{p(w_t | w_{t+j})} $$"
   ]
  },
  {
   "cell_type": "markdown",
   "metadata": {},
   "source": []
  },
  {
   "cell_type": "markdown",
   "metadata": {},
   "source": [
    "### skip-gram"
   ]
  },
  {
   "cell_type": "markdown",
   "metadata": {},
   "source": [
    "maximize the following average log probability:\n",
    "\n",
    "(4)\n",
    "$$ \\frac{1}{T} \\sum_{t=1}^{T} \\sum_{-c \\leq{j} \\leq{c},j\\neq{0}} \\log{p(w_{t+j} | w_t)} $$"
   ]
  },
  {
   "cell_type": "code",
   "execution_count": null,
   "metadata": {
    "collapsed": true
   },
   "outputs": [],
   "source": []
  }
 ],
 "metadata": {
  "kernelspec": {
   "display_name": "Python 3",
   "language": "python",
   "name": "python3"
  },
  "language_info": {
   "codemirror_mode": {
    "name": "ipython",
    "version": 3
   },
   "file_extension": ".py",
   "mimetype": "text/x-python",
   "name": "python",
   "nbconvert_exporter": "python",
   "pygments_lexer": "ipython3",
   "version": "3.5.1"
  }
 },
 "nbformat": 4,
 "nbformat_minor": 0
}
